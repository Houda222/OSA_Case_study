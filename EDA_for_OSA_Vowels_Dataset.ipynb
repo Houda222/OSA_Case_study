{
 "cells": [
  {
   "cell_type": "markdown",
   "metadata": {},
   "source": [
    "## EDA for Describing OSA Vowels Dataset"
   ]
  },
  {
   "cell_type": "markdown",
   "metadata": {},
   "source": [
    "### 1. Import Necessary Libraries"
   ]
  },
  {
   "cell_type": "code",
   "execution_count": 2,
   "metadata": {},
   "outputs": [],
   "source": [
    "import pandas as pd\n",
    "import numpy as np\n",
    "import matplotlib.pyplot as plt\n",
    "import seaborn as sns\n",
    "import os"
   ]
  },
  {
   "cell_type": "markdown",
   "metadata": {},
   "source": [
    "### 2. Read the Excel File into a DataFrame"
   ]
  },
  {
   "cell_type": "code",
   "execution_count": 3,
   "metadata": {},
   "outputs": [],
   "source": [
    "df = pd.read_excel(\".\\DATA\\OSA_DB_UPM_Vowels_Recordings.xlsx\")"
   ]
  },
  {
   "cell_type": "code",
   "execution_count": 4,
   "metadata": {},
   "outputs": [
    {
     "data": {
      "text/html": [
       "<div>\n",
       "<style scoped>\n",
       "    .dataframe tbody tr th:only-of-type {\n",
       "        vertical-align: middle;\n",
       "    }\n",
       "\n",
       "    .dataframe tbody tr th {\n",
       "        vertical-align: top;\n",
       "    }\n",
       "\n",
       "    .dataframe thead th {\n",
       "        text-align: right;\n",
       "    }\n",
       "</style>\n",
       "<table border=\"1\" class=\"dataframe\">\n",
       "  <thead>\n",
       "    <tr style=\"text-align: right;\">\n",
       "      <th></th>\n",
       "      <th>Patient</th>\n",
       "      <th>Gender</th>\n",
       "      <th>IAH</th>\n",
       "      <th>Weight</th>\n",
       "      <th>Age</th>\n",
       "      <th>Height</th>\n",
       "      <th>Cervical</th>\n",
       "      <th>wav_file</th>\n",
       "      <th>vowel</th>\n",
       "    </tr>\n",
       "  </thead>\n",
       "  <tbody>\n",
       "    <tr>\n",
       "      <th>0</th>\n",
       "      <td>P0004</td>\n",
       "      <td>hombre</td>\n",
       "      <td>19.7</td>\n",
       "      <td>78</td>\n",
       "      <td>39</td>\n",
       "      <td>168</td>\n",
       "      <td>42</td>\n",
       "      <td>LB4_F5R1.wav</td>\n",
       "      <td>a</td>\n",
       "    </tr>\n",
       "    <tr>\n",
       "      <th>1</th>\n",
       "      <td>P0004</td>\n",
       "      <td>hombre</td>\n",
       "      <td>19.7</td>\n",
       "      <td>78</td>\n",
       "      <td>39</td>\n",
       "      <td>168</td>\n",
       "      <td>42</td>\n",
       "      <td>LB4_F6R1.wav</td>\n",
       "      <td>e</td>\n",
       "    </tr>\n",
       "    <tr>\n",
       "      <th>2</th>\n",
       "      <td>P0004</td>\n",
       "      <td>hombre</td>\n",
       "      <td>19.7</td>\n",
       "      <td>78</td>\n",
       "      <td>39</td>\n",
       "      <td>168</td>\n",
       "      <td>42</td>\n",
       "      <td>LB4_F7R1.wav</td>\n",
       "      <td>i</td>\n",
       "    </tr>\n",
       "    <tr>\n",
       "      <th>3</th>\n",
       "      <td>P0004</td>\n",
       "      <td>hombre</td>\n",
       "      <td>19.7</td>\n",
       "      <td>78</td>\n",
       "      <td>39</td>\n",
       "      <td>168</td>\n",
       "      <td>42</td>\n",
       "      <td>LB4_F8R1.wav</td>\n",
       "      <td>o</td>\n",
       "    </tr>\n",
       "    <tr>\n",
       "      <th>4</th>\n",
       "      <td>P0004</td>\n",
       "      <td>hombre</td>\n",
       "      <td>19.7</td>\n",
       "      <td>78</td>\n",
       "      <td>39</td>\n",
       "      <td>168</td>\n",
       "      <td>42</td>\n",
       "      <td>LB4_F9R1.wav</td>\n",
       "      <td>u</td>\n",
       "    </tr>\n",
       "  </tbody>\n",
       "</table>\n",
       "</div>"
      ],
      "text/plain": [
       "  Patient  Gender   IAH  Weight  Age  Height  Cervical      wav_file vowel\n",
       "0   P0004  hombre  19.7      78   39     168        42  LB4_F5R1.wav     a\n",
       "1   P0004  hombre  19.7      78   39     168        42  LB4_F6R1.wav     e\n",
       "2   P0004  hombre  19.7      78   39     168        42  LB4_F7R1.wav     i\n",
       "3   P0004  hombre  19.7      78   39     168        42  LB4_F8R1.wav     o\n",
       "4   P0004  hombre  19.7      78   39     168        42  LB4_F9R1.wav     u"
      ]
     },
     "execution_count": 4,
     "metadata": {},
     "output_type": "execute_result"
    }
   ],
   "source": [
    "df.head()"
   ]
  },
  {
   "cell_type": "markdown",
   "metadata": {},
   "source": [
    "### 3. Get some information to describe this database"
   ]
  },
  {
   "cell_type": "code",
   "execution_count": 5,
   "metadata": {},
   "outputs": [
    {
     "name": "stdout",
     "output_type": "stream",
     "text": [
      "There are 451 patients in the dataset\n"
     ]
    }
   ],
   "source": [
    "# How many patients are there in the dataset?\n",
    "print(\"There are\", df['Patient'].nunique(), \"patients in the dataset\")"
   ]
  },
  {
   "cell_type": "markdown",
   "metadata": {},
   "source": [
    "* ##### Information about the speech audio recordings"
   ]
  },
  {
   "cell_type": "code",
   "execution_count": 6,
   "metadata": {},
   "outputs": [
    {
     "name": "stdout",
     "output_type": "stream",
     "text": [
      "There are 2255 waveform recordings in the dataset\n",
      "a    451\n",
      "e    451\n",
      "i    451\n",
      "o    451\n",
      "u    451\n",
      "Name: vowel, dtype: int64\n"
     ]
    }
   ],
   "source": [
    "# How many waveform recordings are there in the dataset?\n",
    "print(\"There are\", df['wav_file'].nunique(), \"waveform recordings in the dataset\")\n",
    "\n",
    "# How many recordings are there for each vowel?\n",
    "print(df['vowel'].value_counts())"
   ]
  },
  {
   "cell_type": "code",
   "execution_count": 7,
   "metadata": {},
   "outputs": [
    {
     "data": {
      "text/plain": [
       "2255"
      ]
     },
     "execution_count": 7,
     "metadata": {},
     "output_type": "execute_result"
    }
   ],
   "source": [
    "# That showld be\n",
    "451*5"
   ]
  },
  {
   "cell_type": "code",
   "execution_count": 8,
   "metadata": {},
   "outputs": [],
   "source": [
    "import librosa\n",
    "\n",
    "# What is the duration and sample rate of the wav files?\n",
    "# we will use librosa to get the duration and sample rate of the wav files\n",
    "\n",
    "# audio_directory is the path to your vowels audio files directory\n",
    "audio_directory = 'D:\\OSA_CaseStudy\\DATA\\SPEECH_VOWELS'\n",
    "\n",
    "\n",
    "# Process the wav files in df['wav_file'] to get the duration and sample rate\n",
    "def get_duration_sample_rate(file, audio_directory=audio_directory):\n",
    "    y, sr = librosa.load(audio_directory + '\\\\' + file)\n",
    "    duration = librosa.get_duration(y=y, sr=sr)\n",
    "    return duration, sr\n",
    "\n",
    "df['duration'], df['sample_rate'] = zip(*df['wav_file'].map(get_duration_sample_rate))\n"
   ]
  },
  {
   "cell_type": "code",
   "execution_count": 9,
   "metadata": {},
   "outputs": [
    {
     "data": {
      "text/html": [
       "<div>\n",
       "<style scoped>\n",
       "    .dataframe tbody tr th:only-of-type {\n",
       "        vertical-align: middle;\n",
       "    }\n",
       "\n",
       "    .dataframe tbody tr th {\n",
       "        vertical-align: top;\n",
       "    }\n",
       "\n",
       "    .dataframe thead th {\n",
       "        text-align: right;\n",
       "    }\n",
       "</style>\n",
       "<table border=\"1\" class=\"dataframe\">\n",
       "  <thead>\n",
       "    <tr style=\"text-align: right;\">\n",
       "      <th></th>\n",
       "      <th>Patient</th>\n",
       "      <th>Gender</th>\n",
       "      <th>IAH</th>\n",
       "      <th>Weight</th>\n",
       "      <th>Age</th>\n",
       "      <th>Height</th>\n",
       "      <th>Cervical</th>\n",
       "      <th>wav_file</th>\n",
       "      <th>vowel</th>\n",
       "      <th>duration</th>\n",
       "      <th>sample_rate</th>\n",
       "    </tr>\n",
       "  </thead>\n",
       "  <tbody>\n",
       "    <tr>\n",
       "      <th>0</th>\n",
       "      <td>P0004</td>\n",
       "      <td>hombre</td>\n",
       "      <td>19.7</td>\n",
       "      <td>78</td>\n",
       "      <td>39</td>\n",
       "      <td>168</td>\n",
       "      <td>42</td>\n",
       "      <td>LB4_F5R1.wav</td>\n",
       "      <td>a</td>\n",
       "      <td>3.125034</td>\n",
       "      <td>22050</td>\n",
       "    </tr>\n",
       "    <tr>\n",
       "      <th>1</th>\n",
       "      <td>P0004</td>\n",
       "      <td>hombre</td>\n",
       "      <td>19.7</td>\n",
       "      <td>78</td>\n",
       "      <td>39</td>\n",
       "      <td>168</td>\n",
       "      <td>42</td>\n",
       "      <td>LB4_F6R1.wav</td>\n",
       "      <td>e</td>\n",
       "      <td>2.500000</td>\n",
       "      <td>22050</td>\n",
       "    </tr>\n",
       "    <tr>\n",
       "      <th>2</th>\n",
       "      <td>P0004</td>\n",
       "      <td>hombre</td>\n",
       "      <td>19.7</td>\n",
       "      <td>78</td>\n",
       "      <td>39</td>\n",
       "      <td>168</td>\n",
       "      <td>42</td>\n",
       "      <td>LB4_F7R1.wav</td>\n",
       "      <td>i</td>\n",
       "      <td>2.500000</td>\n",
       "      <td>22050</td>\n",
       "    </tr>\n",
       "    <tr>\n",
       "      <th>3</th>\n",
       "      <td>P0004</td>\n",
       "      <td>hombre</td>\n",
       "      <td>19.7</td>\n",
       "      <td>78</td>\n",
       "      <td>39</td>\n",
       "      <td>168</td>\n",
       "      <td>42</td>\n",
       "      <td>LB4_F8R1.wav</td>\n",
       "      <td>o</td>\n",
       "      <td>2.500000</td>\n",
       "      <td>22050</td>\n",
       "    </tr>\n",
       "    <tr>\n",
       "      <th>4</th>\n",
       "      <td>P0004</td>\n",
       "      <td>hombre</td>\n",
       "      <td>19.7</td>\n",
       "      <td>78</td>\n",
       "      <td>39</td>\n",
       "      <td>168</td>\n",
       "      <td>42</td>\n",
       "      <td>LB4_F9R1.wav</td>\n",
       "      <td>u</td>\n",
       "      <td>2.500000</td>\n",
       "      <td>22050</td>\n",
       "    </tr>\n",
       "  </tbody>\n",
       "</table>\n",
       "</div>"
      ],
      "text/plain": [
       "  Patient  Gender   IAH  Weight  Age  Height  Cervical      wav_file vowel  \\\n",
       "0   P0004  hombre  19.7      78   39     168        42  LB4_F5R1.wav     a   \n",
       "1   P0004  hombre  19.7      78   39     168        42  LB4_F6R1.wav     e   \n",
       "2   P0004  hombre  19.7      78   39     168        42  LB4_F7R1.wav     i   \n",
       "3   P0004  hombre  19.7      78   39     168        42  LB4_F8R1.wav     o   \n",
       "4   P0004  hombre  19.7      78   39     168        42  LB4_F9R1.wav     u   \n",
       "\n",
       "   duration  sample_rate  \n",
       "0  3.125034        22050  \n",
       "1  2.500000        22050  \n",
       "2  2.500000        22050  \n",
       "3  2.500000        22050  \n",
       "4  2.500000        22050  "
      ]
     },
     "execution_count": 9,
     "metadata": {},
     "output_type": "execute_result"
    }
   ],
   "source": [
    "df.head()"
   ]
  },
  {
   "cell_type": "markdown",
   "metadata": {},
   "source": [
    "* #### Describe duration and sampling rate"
   ]
  },
  {
   "cell_type": "code",
   "execution_count": 10,
   "metadata": {},
   "outputs": [
    {
     "name": "stdout",
     "output_type": "stream",
     "text": [
      "          duration  sample_rate\n",
      "count  2255.000000       2255.0\n",
      "mean      4.195696      22050.0\n",
      "std       1.634137          0.0\n",
      "min       1.250023      22050.0\n",
      "25%       2.500000      22050.0\n",
      "50%       4.375011      22050.0\n",
      "75%       5.312517      22050.0\n",
      "max      10.312517      22050.0\n"
     ]
    }
   ],
   "source": [
    "# Describe the duration and sample rate of the wav files\n",
    "print(df[['duration', 'sample_rate']].describe())\n"
   ]
  },
  {
   "cell_type": "code",
   "execution_count": 11,
   "metadata": {},
   "outputs": [
    {
     "data": {
      "text/plain": [
       "Text(0.5, 0, 'seconds')"
      ]
     },
     "execution_count": 11,
     "metadata": {},
     "output_type": "execute_result"
    },
    {
     "data": {
      "image/png": "[encoded data removed]",
      "text/plain": [
       "<Figure size 640x480 with 1 Axes>"
      ]
     },
     "metadata": {},
     "output_type": "display_data"
    }
   ],
   "source": [
    "# Plot the distribution of the duration of the wav files\n",
    "df['duration'].plot(kind='hist', bins=50, title='Duration of the wav files')\n",
    "plt.xlabel('seconds')\n"
   ]
  },
  {
   "cell_type": "code",
   "execution_count": 12,
   "metadata": {},
   "outputs": [
    {
     "data": {
      "image/png": "[encoded data removed]",
      "text/plain": [
       "<Figure size 600x800 with 5 Axes>"
      ]
     },
     "metadata": {},
     "output_type": "display_data"
    }
   ],
   "source": [
    "# Plot the distribution of the duration of the wav files for each vowel\n",
    "fig, axs = plt.subplots(len(df['vowel'].unique()), 1, figsize=(6, 8))\n",
    "\n",
    "for i, (vowel, group) in enumerate(df.groupby('vowel')):\n",
    "    ax = axs[i]\n",
    "    group['duration'].plot(kind='hist', bins=50, alpha=0.5, legend=True, ax=ax)\n",
    "    ax.set_xlabel('seconds')\n",
    "    ax.set_title(f'Duration of the wav files for vowel {vowel}')\n",
    "\n",
    "plt.tight_layout()\n",
    "plt.show()\n",
    "\n"
   ]
  },
  {
   "cell_type": "markdown",
   "metadata": {},
   "source": [
    "* #### Describe the clinical features of the cases (patients)"
   ]
  },
  {
   "cell_type": "code",
   "execution_count": 13,
   "metadata": {},
   "outputs": [],
   "source": [
    "# Add BMI column to the dataframe\n",
    "df['BMI'] = df['Weight'] / (df['Height'] / 100) ** 2\n"
   ]
  },
  {
   "cell_type": "code",
   "execution_count": 18,
   "metadata": {},
   "outputs": [
    {
     "data": {
      "text/html": [
       "<div>\n",
       "<style scoped>\n",
       "    .dataframe tbody tr th:only-of-type {\n",
       "        vertical-align: middle;\n",
       "    }\n",
       "\n",
       "    .dataframe tbody tr th {\n",
       "        vertical-align: top;\n",
       "    }\n",
       "\n",
       "    .dataframe thead th {\n",
       "        text-align: right;\n",
       "    }\n",
       "</style>\n",
       "<table border=\"1\" class=\"dataframe\">\n",
       "  <thead>\n",
       "    <tr style=\"text-align: right;\">\n",
       "      <th></th>\n",
       "      <th>IAH</th>\n",
       "      <th>BMI</th>\n",
       "      <th>Age</th>\n",
       "      <th>Weight</th>\n",
       "      <th>Height</th>\n",
       "      <th>Cervical</th>\n",
       "    </tr>\n",
       "  </thead>\n",
       "  <tbody>\n",
       "    <tr>\n",
       "      <th>count</th>\n",
       "      <td>451.0</td>\n",
       "      <td>451.0</td>\n",
       "      <td>451.0</td>\n",
       "      <td>451.0</td>\n",
       "      <td>451.0</td>\n",
       "      <td>451.0</td>\n",
       "    </tr>\n",
       "    <tr>\n",
       "      <th>mean</th>\n",
       "      <td>22.4</td>\n",
       "      <td>29.8</td>\n",
       "      <td>48.8</td>\n",
       "      <td>91.7</td>\n",
       "      <td>175.4</td>\n",
       "      <td>42.2</td>\n",
       "    </tr>\n",
       "    <tr>\n",
       "      <th>std</th>\n",
       "      <td>18.3</td>\n",
       "      <td>5.1</td>\n",
       "      <td>12.6</td>\n",
       "      <td>17.2</td>\n",
       "      <td>7.3</td>\n",
       "      <td>3.2</td>\n",
       "    </tr>\n",
       "    <tr>\n",
       "      <th>min</th>\n",
       "      <td>0.0</td>\n",
       "      <td>20.1</td>\n",
       "      <td>20.0</td>\n",
       "      <td>61.0</td>\n",
       "      <td>152.0</td>\n",
       "      <td>34.0</td>\n",
       "    </tr>\n",
       "    <tr>\n",
       "      <th>25%</th>\n",
       "      <td>8.6</td>\n",
       "      <td>26.2</td>\n",
       "      <td>39.0</td>\n",
       "      <td>80.0</td>\n",
       "      <td>170.0</td>\n",
       "      <td>40.0</td>\n",
       "    </tr>\n",
       "    <tr>\n",
       "      <th>50%</th>\n",
       "      <td>17.0</td>\n",
       "      <td>28.7</td>\n",
       "      <td>48.0</td>\n",
       "      <td>89.0</td>\n",
       "      <td>175.0</td>\n",
       "      <td>42.0</td>\n",
       "    </tr>\n",
       "    <tr>\n",
       "      <th>75%</th>\n",
       "      <td>33.0</td>\n",
       "      <td>32.4</td>\n",
       "      <td>58.0</td>\n",
       "      <td>100.0</td>\n",
       "      <td>180.0</td>\n",
       "      <td>44.0</td>\n",
       "    </tr>\n",
       "    <tr>\n",
       "      <th>max</th>\n",
       "      <td>102.0</td>\n",
       "      <td>52.3</td>\n",
       "      <td>85.0</td>\n",
       "      <td>162.0</td>\n",
       "      <td>197.0</td>\n",
       "      <td>53.0</td>\n",
       "    </tr>\n",
       "  </tbody>\n",
       "</table>\n",
       "</div>"
      ],
      "text/plain": [
       "         IAH    BMI    Age  Weight  Height  Cervical\n",
       "count  451.0  451.0  451.0   451.0   451.0     451.0\n",
       "mean    22.4   29.8   48.8    91.7   175.4      42.2\n",
       "std     18.3    5.1   12.6    17.2     7.3       3.2\n",
       "min      0.0   20.1   20.0    61.0   152.0      34.0\n",
       "25%      8.6   26.2   39.0    80.0   170.0      40.0\n",
       "50%     17.0   28.7   48.0    89.0   175.0      42.0\n",
       "75%     33.0   32.4   58.0   100.0   180.0      44.0\n",
       "max    102.0   52.3   85.0   162.0   197.0      53.0"
      ]
     },
     "execution_count": 18,
     "metadata": {},
     "output_type": "execute_result"
    }
   ],
   "source": [
    "# Describe the AHI, BMI, Age, Weight, Height and Cervical column for unique patients.\n",
    "# Print with only one decimal place\n",
    "df.groupby('Patient')[['IAH', 'BMI', 'Age', 'Weight', 'Height', 'Cervical']].mean().describe().round(1)\n"
   ]
  },
  {
   "cell_type": "code",
   "execution_count": 19,
   "metadata": {},
   "outputs": [],
   "source": [
    "# Finally, save the dataframe to a new excel file\n",
    "df.to_excel('.\\DATA\\OSA_DB_UPM_Vowels_Recordings_with_duration_sample_rate_BMI.xlsx', index=False)"
   ]
  }
 ],
 "metadata": {
  "kernelspec": {
   "display_name": "clap",
   "language": "python",
   "name": "python3"
  },
  "language_info": {
   "codemirror_mode": {
    "name": "ipython",
    "version": 3
   },
   "file_extension": ".py",
   "mimetype": "text/x-python",
   "name": "python",
   "nbconvert_exporter": "python",
   "pygments_lexer": "ipython3",
   "version": "3.10.9"
  }
 },
 "nbformat": 4,
 "nbformat_minor": 2
}
