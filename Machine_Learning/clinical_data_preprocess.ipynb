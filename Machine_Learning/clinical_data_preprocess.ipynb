{
 "cells": [
  {
   "cell_type": "markdown",
   "metadata": {},
   "source": [
    "# OSA case study: Clinical Data Preparation and Pre-processing"
   ]
  },
  {
   "cell_type": "markdown",
   "metadata": {},
   "source": [
    "### Dependencies"
   ]
  },
  {
   "cell_type": "code",
   "execution_count": 132,
   "metadata": {},
   "outputs": [],
   "source": [
    "import pandas as pd\n",
    "import seaborn as sns\n",
    "import numpy as np\n",
    "import matplotlib.pyplot as plt"
   ]
  },
  {
   "cell_type": "markdown",
   "metadata": {},
   "source": [
    "### Data loading and main characteristics"
   ]
  },
  {
   "cell_type": "code",
   "execution_count": 133,
   "metadata": {},
   "outputs": [],
   "source": [
    "# Load data\n",
    "file_path = \"datasets/Info_BDApnea_QuironMalaga.csv\"\n",
    "df = pd.read_csv(file_path, delimiter=';')"
   ]
  },
  {
   "cell_type": "code",
   "execution_count": 134,
   "metadata": {},
   "outputs": [
    {
     "data": {
      "text/plain": [
       "Index(['Patient', 'Comentarios', 'Audios tumbado', 'Fotos', 'Audio fs KHz',\n",
       "       'Gender', 'EPWORTH', 'IAH', 'IAH Supino', 'IAH Lateral', 'Peso',\n",
       "       'Talla', 'IMC', 'Edad', 'PerCervical', 'Fumador', 'Roncador',\n",
       "       'Enfermedades', 'Sala/Ruidos', 'Imagen', 'Dialecto', 'DIST EXT OJOS',\n",
       "       'DIST BARB-LOB', 'Cansancio', 'Concentrarse', 'PerdRespNoche', 'HiperT',\n",
       "       'EstHOSP'],\n",
       "      dtype='object')"
      ]
     },
     "execution_count": 134,
     "metadata": {},
     "output_type": "execute_result"
    }
   ],
   "source": [
    "df.columns"
   ]
  },
  {
   "cell_type": "code",
   "execution_count": 135,
   "metadata": {},
   "outputs": [
    {
     "data": {
      "text/plain": [
       "(873, 28)"
      ]
     },
     "execution_count": 135,
     "metadata": {},
     "output_type": "execute_result"
    }
   ],
   "source": [
    "df.shape"
   ]
  },
  {
   "cell_type": "code",
   "execution_count": 136,
   "metadata": {},
   "outputs": [
    {
     "data": {
      "text/html": [
       "<div>\n",
       "<style scoped>\n",
       "    .dataframe tbody tr th:only-of-type {\n",
       "        vertical-align: middle;\n",
       "    }\n",
       "\n",
       "    .dataframe tbody tr th {\n",
       "        vertical-align: top;\n",
       "    }\n",
       "\n",
       "    .dataframe thead th {\n",
       "        text-align: right;\n",
       "    }\n",
       "</style>\n",
       "<table border=\"1\" class=\"dataframe\">\n",
       "  <thead>\n",
       "    <tr style=\"text-align: right;\">\n",
       "      <th></th>\n",
       "      <th>Patient</th>\n",
       "      <th>Comentarios</th>\n",
       "      <th>Audios tumbado</th>\n",
       "      <th>Fotos</th>\n",
       "      <th>Audio fs KHz</th>\n",
       "      <th>Gender</th>\n",
       "      <th>EPWORTH</th>\n",
       "      <th>IAH</th>\n",
       "      <th>IAH Supino</th>\n",
       "      <th>IAH Lateral</th>\n",
       "      <th>...</th>\n",
       "      <th>Sala/Ruidos</th>\n",
       "      <th>Imagen</th>\n",
       "      <th>Dialecto</th>\n",
       "      <th>DIST EXT OJOS</th>\n",
       "      <th>DIST BARB-LOB</th>\n",
       "      <th>Cansancio</th>\n",
       "      <th>Concentrarse</th>\n",
       "      <th>PerdRespNoche</th>\n",
       "      <th>HiperT</th>\n",
       "      <th>EstHOSP</th>\n",
       "    </tr>\n",
       "  </thead>\n",
       "  <tbody>\n",
       "    <tr>\n",
       "      <th>0</th>\n",
       "      <td>P0001</td>\n",
       "      <td>es el Patient0002 (fotos) 3 (sentado) y 4 (tum...</td>\n",
       "      <td>si</td>\n",
       "      <td>si</td>\n",
       "      <td>16</td>\n",
       "      <td>hombre</td>\n",
       "      <td>NaN</td>\n",
       "      <td>71</td>\n",
       "      <td>-1</td>\n",
       "      <td>-1</td>\n",
       "      <td>...</td>\n",
       "      <td>nd</td>\n",
       "      <td>nd</td>\n",
       "      <td>nd</td>\n",
       "      <td>NaN</td>\n",
       "      <td>NaN</td>\n",
       "      <td>NaN</td>\n",
       "      <td>NaN</td>\n",
       "      <td>NaN</td>\n",
       "      <td>NaN</td>\n",
       "      <td>NaN</td>\n",
       "    </tr>\n",
       "    <tr>\n",
       "      <th>1</th>\n",
       "      <td>P0002</td>\n",
       "      <td>Es el Patient0006 (sentado) y 7 (tumbado)</td>\n",
       "      <td>si</td>\n",
       "      <td>si</td>\n",
       "      <td>16</td>\n",
       "      <td>hombre</td>\n",
       "      <td>NaN</td>\n",
       "      <td>29,6</td>\n",
       "      <td>-1</td>\n",
       "      <td>-1</td>\n",
       "      <td>...</td>\n",
       "      <td>nd</td>\n",
       "      <td>nd</td>\n",
       "      <td>nd</td>\n",
       "      <td>NaN</td>\n",
       "      <td>NaN</td>\n",
       "      <td>NaN</td>\n",
       "      <td>NaN</td>\n",
       "      <td>NaN</td>\n",
       "      <td>NaN</td>\n",
       "      <td>NaN</td>\n",
       "    </tr>\n",
       "    <tr>\n",
       "      <th>2</th>\n",
       "      <td>P0003</td>\n",
       "      <td>Patient 8, 9 y 10</td>\n",
       "      <td>si</td>\n",
       "      <td>si</td>\n",
       "      <td>16</td>\n",
       "      <td>hombre</td>\n",
       "      <td>NaN</td>\n",
       "      <td>56</td>\n",
       "      <td>-1</td>\n",
       "      <td>-1</td>\n",
       "      <td>...</td>\n",
       "      <td>nd</td>\n",
       "      <td>nd</td>\n",
       "      <td>nd</td>\n",
       "      <td>NaN</td>\n",
       "      <td>NaN</td>\n",
       "      <td>NaN</td>\n",
       "      <td>NaN</td>\n",
       "      <td>NaN</td>\n",
       "      <td>NaN</td>\n",
       "      <td>NaN</td>\n",
       "    </tr>\n",
       "    <tr>\n",
       "      <th>3</th>\n",
       "      <td>P0004</td>\n",
       "      <td>Patient 13 y 14</td>\n",
       "      <td>si_codigos</td>\n",
       "      <td>si</td>\n",
       "      <td>16</td>\n",
       "      <td>hombre</td>\n",
       "      <td>NaN</td>\n",
       "      <td>19,7</td>\n",
       "      <td>-1</td>\n",
       "      <td>-1</td>\n",
       "      <td>...</td>\n",
       "      <td>nd</td>\n",
       "      <td>nd</td>\n",
       "      <td>nd</td>\n",
       "      <td>NaN</td>\n",
       "      <td>NaN</td>\n",
       "      <td>NaN</td>\n",
       "      <td>NaN</td>\n",
       "      <td>NaN</td>\n",
       "      <td>NaN</td>\n",
       "      <td>NaN</td>\n",
       "    </tr>\n",
       "    <tr>\n",
       "      <th>4</th>\n",
       "      <td>P0005</td>\n",
       "      <td>Patient0015 los códigos QMH5</td>\n",
       "      <td>si_codigos</td>\n",
       "      <td>si</td>\n",
       "      <td>16</td>\n",
       "      <td>hombre</td>\n",
       "      <td>NaN</td>\n",
       "      <td>9</td>\n",
       "      <td>-1</td>\n",
       "      <td>-1</td>\n",
       "      <td>...</td>\n",
       "      <td>nd</td>\n",
       "      <td>nd</td>\n",
       "      <td>nd</td>\n",
       "      <td>NaN</td>\n",
       "      <td>NaN</td>\n",
       "      <td>NaN</td>\n",
       "      <td>NaN</td>\n",
       "      <td>NaN</td>\n",
       "      <td>NaN</td>\n",
       "      <td>NaN</td>\n",
       "    </tr>\n",
       "  </tbody>\n",
       "</table>\n",
       "<p>5 rows × 28 columns</p>\n",
       "</div>"
      ],
      "text/plain": [
       "  Patient                                        Comentarios Audios tumbado  \\\n",
       "0   P0001  es el Patient0002 (fotos) 3 (sentado) y 4 (tum...             si   \n",
       "1   P0002          Es el Patient0006 (sentado) y 7 (tumbado)             si   \n",
       "2   P0003                                  Patient 8, 9 y 10             si   \n",
       "3   P0004                                    Patient 13 y 14     si_codigos   \n",
       "4   P0005                       Patient0015 los códigos QMH5     si_codigos   \n",
       "\n",
       "  Fotos Audio fs KHz  Gender EPWORTH   IAH IAH Supino IAH Lateral  ...  \\\n",
       "0    si           16  hombre     NaN    71         -1          -1  ...   \n",
       "1    si           16  hombre     NaN  29,6         -1          -1  ...   \n",
       "2    si           16  hombre     NaN    56         -1          -1  ...   \n",
       "3    si           16  hombre     NaN  19,7         -1          -1  ...   \n",
       "4    si           16  hombre     NaN     9         -1          -1  ...   \n",
       "\n",
       "  Sala/Ruidos  Imagen  Dialecto  DIST EXT OJOS DIST BARB-LOB Cansancio  \\\n",
       "0          nd      nd        nd            NaN           NaN       NaN   \n",
       "1          nd      nd        nd            NaN           NaN       NaN   \n",
       "2          nd      nd        nd            NaN           NaN       NaN   \n",
       "3          nd      nd        nd            NaN           NaN       NaN   \n",
       "4          nd      nd        nd            NaN           NaN       NaN   \n",
       "\n",
       "  Concentrarse PerdRespNoche HiperT EstHOSP  \n",
       "0          NaN           NaN    NaN     NaN  \n",
       "1          NaN           NaN    NaN     NaN  \n",
       "2          NaN           NaN    NaN     NaN  \n",
       "3          NaN           NaN    NaN     NaN  \n",
       "4          NaN           NaN    NaN     NaN  \n",
       "\n",
       "[5 rows x 28 columns]"
      ]
     },
     "execution_count": 136,
     "metadata": {},
     "output_type": "execute_result"
    }
   ],
   "source": [
    "df.head()"
   ]
  },
  {
   "cell_type": "code",
   "execution_count": 137,
   "metadata": {},
   "outputs": [],
   "source": [
    "# We only want to keep certain columns\n",
    "column_mapping = {\n",
    "    'Patient': 'Patient',\n",
    "    'Gender': 'Gender',\n",
    "    'IAH': 'IAH',\n",
    "    'Peso': 'Weight',\n",
    "    'Edad': 'Age',\n",
    "    'Talla': 'Height',\n",
    "    'PerCervical': 'Cervical',\n",
    "}\n",
    "\n",
    "df = df.rename(columns=column_mapping)[list(column_mapping.values())]"
   ]
  },
  {
   "cell_type": "code",
   "execution_count": 138,
   "metadata": {},
   "outputs": [
    {
     "data": {
      "text/plain": [
       "Index(['Patient', 'Gender', 'IAH', 'Weight', 'Age', 'Height', 'Cervical'], dtype='object')"
      ]
     },
     "execution_count": 138,
     "metadata": {},
     "output_type": "execute_result"
    }
   ],
   "source": [
    "df.columns"
   ]
  },
  {
   "cell_type": "code",
   "execution_count": 139,
   "metadata": {},
   "outputs": [
    {
     "data": {
      "text/html": [
       "<div>\n",
       "<style scoped>\n",
       "    .dataframe tbody tr th:only-of-type {\n",
       "        vertical-align: middle;\n",
       "    }\n",
       "\n",
       "    .dataframe tbody tr th {\n",
       "        vertical-align: top;\n",
       "    }\n",
       "\n",
       "    .dataframe thead th {\n",
       "        text-align: right;\n",
       "    }\n",
       "</style>\n",
       "<table border=\"1\" class=\"dataframe\">\n",
       "  <thead>\n",
       "    <tr style=\"text-align: right;\">\n",
       "      <th></th>\n",
       "      <th>Patient</th>\n",
       "      <th>Gender</th>\n",
       "      <th>IAH</th>\n",
       "      <th>Weight</th>\n",
       "      <th>Age</th>\n",
       "      <th>Height</th>\n",
       "      <th>Cervical</th>\n",
       "    </tr>\n",
       "  </thead>\n",
       "  <tbody>\n",
       "    <tr>\n",
       "      <th>0</th>\n",
       "      <td>P0001</td>\n",
       "      <td>hombre</td>\n",
       "      <td>71</td>\n",
       "      <td>82</td>\n",
       "      <td>39.0</td>\n",
       "      <td>168.0</td>\n",
       "      <td>-1</td>\n",
       "    </tr>\n",
       "    <tr>\n",
       "      <th>1</th>\n",
       "      <td>P0002</td>\n",
       "      <td>hombre</td>\n",
       "      <td>29,6</td>\n",
       "      <td>119</td>\n",
       "      <td>56.0</td>\n",
       "      <td>174.0</td>\n",
       "      <td>48</td>\n",
       "    </tr>\n",
       "    <tr>\n",
       "      <th>2</th>\n",
       "      <td>P0003</td>\n",
       "      <td>hombre</td>\n",
       "      <td>56</td>\n",
       "      <td>-1</td>\n",
       "      <td>46.0</td>\n",
       "      <td>-1.0</td>\n",
       "      <td>43</td>\n",
       "    </tr>\n",
       "    <tr>\n",
       "      <th>3</th>\n",
       "      <td>P0004</td>\n",
       "      <td>hombre</td>\n",
       "      <td>19,7</td>\n",
       "      <td>78</td>\n",
       "      <td>39.0</td>\n",
       "      <td>168.0</td>\n",
       "      <td>42</td>\n",
       "    </tr>\n",
       "    <tr>\n",
       "      <th>4</th>\n",
       "      <td>P0005</td>\n",
       "      <td>hombre</td>\n",
       "      <td>9</td>\n",
       "      <td>80</td>\n",
       "      <td>32.0</td>\n",
       "      <td>173.0</td>\n",
       "      <td>40</td>\n",
       "    </tr>\n",
       "  </tbody>\n",
       "</table>\n",
       "</div>"
      ],
      "text/plain": [
       "  Patient  Gender   IAH Weight   Age  Height Cervical\n",
       "0   P0001  hombre    71     82  39.0   168.0       -1\n",
       "1   P0002  hombre  29,6    119  56.0   174.0       48\n",
       "2   P0003  hombre    56     -1  46.0    -1.0       43\n",
       "3   P0004  hombre  19,7     78  39.0   168.0       42\n",
       "4   P0005  hombre     9     80  32.0   173.0       40"
      ]
     },
     "execution_count": 139,
     "metadata": {},
     "output_type": "execute_result"
    }
   ],
   "source": [
    "df.head()"
   ]
  },
  {
   "cell_type": "markdown",
   "metadata": {},
   "source": [
    "Let's review our data type"
   ]
  },
  {
   "cell_type": "code",
   "execution_count": 140,
   "metadata": {},
   "outputs": [
    {
     "data": {
      "text/plain": [
       "Patient      object\n",
       "Gender       object\n",
       "IAH          object\n",
       "Weight       object\n",
       "Age         float64\n",
       "Height      float64\n",
       "Cervical     object\n",
       "dtype: object"
      ]
     },
     "execution_count": 140,
     "metadata": {},
     "output_type": "execute_result"
    }
   ],
   "source": [
    "df.dtypes"
   ]
  },
  {
   "cell_type": "markdown",
   "metadata": {},
   "source": [
    "Weight and Cervical qre supposed to be numeric but they're an object, so we'll convert then to numeric"
   ]
  },
  {
   "cell_type": "code",
   "execution_count": 141,
   "metadata": {},
   "outputs": [],
   "source": [
    "df['Weight'] = pd.to_numeric(df['Weight'], errors='coerce')\n",
    "df['Cervical'] = pd.to_numeric(df['Cervical'], errors='coerce')"
   ]
  },
  {
   "cell_type": "code",
   "execution_count": 142,
   "metadata": {},
   "outputs": [],
   "source": [
    "# Fixing the 'IAH' decimal issue by replacing commas with periods\n",
    "df['IAH'] = df['IAH'].str.replace(',', '.').astype(float)"
   ]
  },
  {
   "cell_type": "markdown",
   "metadata": {},
   "source": [
    "We'll also convert the patient column to categorical"
   ]
  },
  {
   "cell_type": "code",
   "execution_count": 143,
   "metadata": {},
   "outputs": [],
   "source": [
    "# Change the 'Patient' column to categorical\n",
    "df['Patient'] = df['Patient'].astype('category')"
   ]
  },
  {
   "cell_type": "markdown",
   "metadata": {},
   "source": [
    "And finally, we will use hot encoding on the gender column, to help the model perform better."
   ]
  },
  {
   "cell_type": "code",
   "execution_count": 144,
   "metadata": {},
   "outputs": [],
   "source": [
    "# Encoding the 'Gender' column \n",
    "df['Gender'] = df['Gender'].map({'hombre': 1, 'mujer': 0})  # 1 for male, 0 for female"
   ]
  },
  {
   "cell_type": "code",
   "execution_count": 145,
   "metadata": {},
   "outputs": [
    {
     "data": {
      "text/plain": [
       "Patient     category\n",
       "Gender       float64\n",
       "IAH          float64\n",
       "Weight       float64\n",
       "Age          float64\n",
       "Height       float64\n",
       "Cervical     float64\n",
       "dtype: object"
      ]
     },
     "execution_count": 145,
     "metadata": {},
     "output_type": "execute_result"
    }
   ],
   "source": [
    "df.dtypes"
   ]
  },
  {
   "cell_type": "code",
   "execution_count": 146,
   "metadata": {},
   "outputs": [],
   "source": [
    "# Replace -1 with NaN in the entire DataFrame\n",
    "df.replace(-1, np.nan, inplace=True)"
   ]
  },
  {
   "cell_type": "code",
   "execution_count": 147,
   "metadata": {},
   "outputs": [
    {
     "data": {
      "text/html": [
       "<div>\n",
       "<style scoped>\n",
       "    .dataframe tbody tr th:only-of-type {\n",
       "        vertical-align: middle;\n",
       "    }\n",
       "\n",
       "    .dataframe tbody tr th {\n",
       "        vertical-align: top;\n",
       "    }\n",
       "\n",
       "    .dataframe thead th {\n",
       "        text-align: right;\n",
       "    }\n",
       "</style>\n",
       "<table border=\"1\" class=\"dataframe\">\n",
       "  <thead>\n",
       "    <tr style=\"text-align: right;\">\n",
       "      <th></th>\n",
       "      <th>Patient</th>\n",
       "      <th>Gender</th>\n",
       "      <th>IAH</th>\n",
       "      <th>Weight</th>\n",
       "      <th>Age</th>\n",
       "      <th>Height</th>\n",
       "      <th>Cervical</th>\n",
       "    </tr>\n",
       "  </thead>\n",
       "  <tbody>\n",
       "    <tr>\n",
       "      <th>0</th>\n",
       "      <td>P0001</td>\n",
       "      <td>1.0</td>\n",
       "      <td>71.0</td>\n",
       "      <td>82.0</td>\n",
       "      <td>39.0</td>\n",
       "      <td>168.0</td>\n",
       "      <td>NaN</td>\n",
       "    </tr>\n",
       "    <tr>\n",
       "      <th>1</th>\n",
       "      <td>P0002</td>\n",
       "      <td>1.0</td>\n",
       "      <td>29.6</td>\n",
       "      <td>119.0</td>\n",
       "      <td>56.0</td>\n",
       "      <td>174.0</td>\n",
       "      <td>48.0</td>\n",
       "    </tr>\n",
       "    <tr>\n",
       "      <th>2</th>\n",
       "      <td>P0003</td>\n",
       "      <td>1.0</td>\n",
       "      <td>56.0</td>\n",
       "      <td>NaN</td>\n",
       "      <td>46.0</td>\n",
       "      <td>NaN</td>\n",
       "      <td>43.0</td>\n",
       "    </tr>\n",
       "    <tr>\n",
       "      <th>3</th>\n",
       "      <td>P0004</td>\n",
       "      <td>1.0</td>\n",
       "      <td>19.7</td>\n",
       "      <td>78.0</td>\n",
       "      <td>39.0</td>\n",
       "      <td>168.0</td>\n",
       "      <td>42.0</td>\n",
       "    </tr>\n",
       "    <tr>\n",
       "      <th>4</th>\n",
       "      <td>P0005</td>\n",
       "      <td>1.0</td>\n",
       "      <td>9.0</td>\n",
       "      <td>80.0</td>\n",
       "      <td>32.0</td>\n",
       "      <td>173.0</td>\n",
       "      <td>40.0</td>\n",
       "    </tr>\n",
       "  </tbody>\n",
       "</table>\n",
       "</div>"
      ],
      "text/plain": [
       "  Patient  Gender   IAH  Weight   Age  Height  Cervical\n",
       "0   P0001     1.0  71.0    82.0  39.0   168.0       NaN\n",
       "1   P0002     1.0  29.6   119.0  56.0   174.0      48.0\n",
       "2   P0003     1.0  56.0     NaN  46.0     NaN      43.0\n",
       "3   P0004     1.0  19.7    78.0  39.0   168.0      42.0\n",
       "4   P0005     1.0   9.0    80.0  32.0   173.0      40.0"
      ]
     },
     "execution_count": 147,
     "metadata": {},
     "output_type": "execute_result"
    }
   ],
   "source": [
    "df.head()"
   ]
  },
  {
   "cell_type": "markdown",
   "metadata": {},
   "source": [
    "### Exploring NaN values"
   ]
  },
  {
   "cell_type": "code",
   "execution_count": 148,
   "metadata": {},
   "outputs": [
    {
     "name": "stdout",
     "output_type": "stream",
     "text": [
      "Columns with NaN values:\n",
      "Patient     188\n",
      "Gender      190\n",
      "IAH         224\n",
      "Weight      198\n",
      "Age         198\n",
      "Height      197\n",
      "Cervical    203\n",
      "dtype: int64\n",
      "Rows with NaN values:\n",
      "                                               Patient  Gender   IAH  Weight  \\\n",
      "0                                                P0001     1.0  71.0    82.0   \n",
      "2                                                P0003     1.0  56.0     NaN   \n",
      "10                                               P0011     1.0  14.2    90.0   \n",
      "11                                               P0012     1.0  10.0    69.0   \n",
      "20                                               P0021     0.0  20.0    63.0   \n",
      "..                                                 ...     ...   ...     ...   \n",
      "868                                                NaN     NaN   NaN     NaN   \n",
      "869                                                NaN     NaN   NaN     NaN   \n",
      "870                                                NaN     NaN   NaN     NaN   \n",
      "871                                                NaN     NaN   NaN     NaN   \n",
      "872  y ayer tuvimos dos, la 827 y el 828. Intenté q...     NaN   NaN     NaN   \n",
      "\n",
      "      Age  Height  Cervical  \n",
      "0    39.0   168.0       NaN  \n",
      "2    46.0     NaN      43.0  \n",
      "10   29.0   182.0       NaN  \n",
      "11   48.0   169.0       NaN  \n",
      "20   32.0   169.0       NaN  \n",
      "..    ...     ...       ...  \n",
      "868   NaN     NaN       NaN  \n",
      "869   NaN     NaN       NaN  \n",
      "870   NaN     NaN       NaN  \n",
      "871   NaN     NaN       NaN  \n",
      "872   NaN     NaN       NaN  \n",
      "\n",
      "[237 rows x 7 columns]\n"
     ]
    },
    {
     "data": {
      "image/png": "[encoded data removed]",
      "text/plain": [
       "<Figure size 1000x600 with 1 Axes>"
      ]
     },
     "metadata": {},
     "output_type": "display_data"
    }
   ],
   "source": [
    "# Check for NaN values in the DataFrame\n",
    "nan_values = df.isnull().sum()\n",
    "\n",
    "# Display the columns with NaN values\n",
    "print(\"Columns with NaN values:\")\n",
    "print(nan_values[nan_values > 0])\n",
    "\n",
    "# Display the rows with NaN values\n",
    "print(\"Rows with NaN values:\")\n",
    "print(df[df.isnull().any(axis=1)])\n",
    "\n",
    "# Visualize NaN values\n",
    "plt.figure(figsize=(10, 6))\n",
    "sns.heatmap(df.isnull(), cmap='viridis', cbar=False)\n",
    "plt.title(\"NaN Values in DataFrame\")\n",
    "plt.show()"
   ]
  },
  {
   "cell_type": "code",
   "execution_count": 149,
   "metadata": {},
   "outputs": [],
   "source": [
    "# Remove rows where all values are NaN\n",
    "df = df.dropna(how='all')\n",
    "\n",
    "# Remove rows for which IAH is NaN\n",
    "df.dropna(subset=['IAH'], inplace=True)"
   ]
  },
  {
   "cell_type": "code",
   "execution_count": 150,
   "metadata": {},
   "outputs": [
    {
     "data": {
      "text/plain": [
       "Weight       87.683230\n",
       "Age          49.428571\n",
       "Height      171.314729\n",
       "Cervical     40.649452\n",
       "dtype: float64"
      ]
     },
     "execution_count": 150,
     "metadata": {},
     "output_type": "execute_result"
    }
   ],
   "source": [
    "# Means for columns containing NaNs\n",
    "mean_values = df[['Weight', 'Age', 'Height', 'Cervical']].mean(skipna=True)\n",
    "mean_values"
   ]
  },
  {
   "cell_type": "code",
   "execution_count": 151,
   "metadata": {},
   "outputs": [],
   "source": [
    "# Replace NaN values with the means\n",
    "df.fillna(mean_values, inplace=True)"
   ]
  },
  {
   "cell_type": "code",
   "execution_count": 152,
   "metadata": {},
   "outputs": [
    {
     "data": {
      "image/png": "[encoded data removed]",
      "text/plain": [
       "<Figure size 1000x600 with 1 Axes>"
      ]
     },
     "metadata": {},
     "output_type": "display_data"
    }
   ],
   "source": [
    "nan_values = df.isnull().sum()\n",
    "plt.figure(figsize=(10, 6))\n",
    "sns.heatmap(df.isnull(), cmap='viridis', cbar=False)\n",
    "plt.title(\"NaN Values in DataFrame\")\n",
    "plt.show()\n"
   ]
  },
  {
   "cell_type": "markdown",
   "metadata": {},
   "source": [
    "### Feature Engineering"
   ]
  },
  {
   "cell_type": "code",
   "execution_count": 153,
   "metadata": {},
   "outputs": [],
   "source": [
    "# Calculate BMI and add it as a new column\n",
    "df['BMI'] = df['Weight'] / (df['Height'] / 100) ** 2"
   ]
  },
  {
   "cell_type": "markdown",
   "metadata": {},
   "source": [
    "As final step, let's save the newly created dataset to be able to use it in our project"
   ]
  },
  {
   "cell_type": "code",
   "execution_count": 154,
   "metadata": {},
   "outputs": [],
   "source": [
    "output_filepath = \"Clinical_data.xlsx\"\n",
    "df.to_excel(output_filepath, index=False)"
   ]
  },
  {
   "cell_type": "markdown",
   "metadata": {},
   "source": [
    "### Normalization"
   ]
  },
  {
   "cell_type": "markdown",
   "metadata": {},
   "source": [
    "Another additional step we can do is data normalization, to ensure that all quantities are on a similar scale for algorithms sensitive to feature scales. We will save the normalized dataset in a separate file."
   ]
  },
  {
   "cell_type": "code",
   "execution_count": 155,
   "metadata": {},
   "outputs": [],
   "source": [
    "from sklearn.preprocessing import MinMaxScaler\n",
    "\n",
    "# Creating a copy of the dataset\n",
    "norm_df = df.copy()\n",
    "\n",
    "# Selecting the features to be normalized\n",
    "features = ['Weight', 'Age', 'BMI', 'Cervical', 'Height']\n",
    "\n",
    "# Normalizing the features\n",
    "scaler = MinMaxScaler()\n",
    "norm_df[features] = scaler.fit_transform(norm_df[features])"
   ]
  },
  {
   "cell_type": "code",
   "execution_count": 169,
   "metadata": {},
   "outputs": [
    {
     "data": {
      "image/png": "[encoded data removed]",
      "text/plain": [
       "<Figure size 1400x600 with 2 Axes>"
      ]
     },
     "metadata": {},
     "output_type": "display_data"
    }
   ],
   "source": [
    "# Plotting the weight distribution before and after applying MinMaxScaler\n",
    "plt.figure(figsize=(14, 6))\n",
    "\n",
    "# Before scaling\n",
    "plt.subplot(1, 2, 1)\n",
    "sns.histplot(df['Weight'], bins=30, kde=True)\n",
    "plt.title('Weight Distribution Before Scaling')\n",
    "plt.xlabel('Weight')\n",
    "plt.ylabel('Frequency')\n",
    "\n",
    "# After scaling\n",
    "plt.subplot(1, 2, 2)\n",
    "sns.histplot(norm_df['Weight'], bins=30, kde=True)\n",
    "plt.title('Weight Distribution After MinMax Scaling')\n",
    "plt.xlabel('Weight')\n",
    "plt.ylabel('Frequency')\n",
    "\n",
    "plt.tight_layout()\n",
    "plt.show()"
   ]
  },
  {
   "cell_type": "code",
   "execution_count": 156,
   "metadata": {},
   "outputs": [],
   "source": [
    "output_filepath = \"Clinical_data_norm.xlsx\"\n",
    "norm_df.to_excel(output_filepath, index=False)"
   ]
  },
  {
   "cell_type": "markdown",
   "metadata": {},
   "source": [
    "# Seperate data per gender"
   ]
  },
  {
   "cell_type": "code",
   "execution_count": 164,
   "metadata": {},
   "outputs": [],
   "source": [
    "# Separate the dataset into males and females\n",
    "male_df = df[df['Gender'] == 1]\n",
    "female_df = df[df['Gender'] == 0]\n",
    "\n",
    "# Remove the Gender column after separation\n",
    "male_df = male_df.drop(columns=['Gender'])\n",
    "female_df = female_df.drop(columns=['Gender'])\n",
    "\n",
    "# Add OSA category based on IAH values: 0: No OSA, 1: OSA\n",
    "male_df.loc[:, 'OSA'] = male_df['IAH'].apply(lambda x: 0 if x <= 10 else (1 if x >= 30 else None))\n",
    "female_df.loc[:, 'OSA'] = female_df['IAH'].apply(lambda x: 0 if x <= 10 else (1 if x >= 30 else None))\n",
    "\n",
    "# Remove rows with IAH values between 10 and 30\n",
    "male_df = male_df.dropna(subset=['OSA'])\n",
    "female_df = female_df.dropna(subset=['OSA'])\n",
    "\n",
    "male_df.to_excel('datasets/male_data.xlsx', index=False)\n",
    "female_df.to_excel('datasets/female_data.xlsx', index=False)"
   ]
  },
  {
   "cell_type": "code",
   "execution_count": 165,
   "metadata": {},
   "outputs": [
    {
     "data": {
      "text/html": [
       "<div>\n",
       "<style scoped>\n",
       "    .dataframe tbody tr th:only-of-type {\n",
       "        vertical-align: middle;\n",
       "    }\n",
       "\n",
       "    .dataframe tbody tr th {\n",
       "        vertical-align: top;\n",
       "    }\n",
       "\n",
       "    .dataframe thead th {\n",
       "        text-align: right;\n",
       "    }\n",
       "</style>\n",
       "<table border=\"1\" class=\"dataframe\">\n",
       "  <thead>\n",
       "    <tr style=\"text-align: right;\">\n",
       "      <th></th>\n",
       "      <th>Patient</th>\n",
       "      <th>IAH</th>\n",
       "      <th>Weight</th>\n",
       "      <th>Age</th>\n",
       "      <th>Height</th>\n",
       "      <th>Cervical</th>\n",
       "      <th>BMI</th>\n",
       "      <th>OSA</th>\n",
       "    </tr>\n",
       "  </thead>\n",
       "  <tbody>\n",
       "    <tr>\n",
       "      <th>13</th>\n",
       "      <td>P0014</td>\n",
       "      <td>7.0</td>\n",
       "      <td>50.0</td>\n",
       "      <td>50.0</td>\n",
       "      <td>158.0</td>\n",
       "      <td>35.0</td>\n",
       "      <td>20.028842</td>\n",
       "      <td>0.0</td>\n",
       "    </tr>\n",
       "    <tr>\n",
       "      <th>14</th>\n",
       "      <td>P0015</td>\n",
       "      <td>5.0</td>\n",
       "      <td>55.0</td>\n",
       "      <td>62.0</td>\n",
       "      <td>156.0</td>\n",
       "      <td>38.0</td>\n",
       "      <td>22.600263</td>\n",
       "      <td>0.0</td>\n",
       "    </tr>\n",
       "    <tr>\n",
       "      <th>17</th>\n",
       "      <td>P0018</td>\n",
       "      <td>10.0</td>\n",
       "      <td>90.0</td>\n",
       "      <td>60.0</td>\n",
       "      <td>158.0</td>\n",
       "      <td>39.0</td>\n",
       "      <td>36.051915</td>\n",
       "      <td>0.0</td>\n",
       "    </tr>\n",
       "    <tr>\n",
       "      <th>22</th>\n",
       "      <td>P0023</td>\n",
       "      <td>4.0</td>\n",
       "      <td>60.0</td>\n",
       "      <td>53.0</td>\n",
       "      <td>162.0</td>\n",
       "      <td>33.0</td>\n",
       "      <td>22.862369</td>\n",
       "      <td>0.0</td>\n",
       "    </tr>\n",
       "    <tr>\n",
       "      <th>27</th>\n",
       "      <td>P0028</td>\n",
       "      <td>5.9</td>\n",
       "      <td>74.0</td>\n",
       "      <td>53.0</td>\n",
       "      <td>155.0</td>\n",
       "      <td>38.0</td>\n",
       "      <td>30.801249</td>\n",
       "      <td>0.0</td>\n",
       "    </tr>\n",
       "  </tbody>\n",
       "</table>\n",
       "</div>"
      ],
      "text/plain": [
       "   Patient   IAH  Weight   Age  Height  Cervical        BMI  OSA\n",
       "13   P0014   7.0    50.0  50.0   158.0      35.0  20.028842  0.0\n",
       "14   P0015   5.0    55.0  62.0   156.0      38.0  22.600263  0.0\n",
       "17   P0018  10.0    90.0  60.0   158.0      39.0  36.051915  0.0\n",
       "22   P0023   4.0    60.0  53.0   162.0      33.0  22.862369  0.0\n",
       "27   P0028   5.9    74.0  53.0   155.0      38.0  30.801249  0.0"
      ]
     },
     "execution_count": 165,
     "metadata": {},
     "output_type": "execute_result"
    }
   ],
   "source": [
    "female_df.head()"
   ]
  },
  {
   "cell_type": "code",
   "execution_count": 166,
   "metadata": {},
   "outputs": [
    {
     "data": {
      "text/plain": [
       "(134, 8)"
      ]
     },
     "execution_count": 166,
     "metadata": {},
     "output_type": "execute_result"
    }
   ],
   "source": [
    "female_df.shape"
   ]
  },
  {
   "cell_type": "code",
   "execution_count": 167,
   "metadata": {},
   "outputs": [
    {
     "data": {
      "text/html": [
       "<div>\n",
       "<style scoped>\n",
       "    .dataframe tbody tr th:only-of-type {\n",
       "        vertical-align: middle;\n",
       "    }\n",
       "\n",
       "    .dataframe tbody tr th {\n",
       "        vertical-align: top;\n",
       "    }\n",
       "\n",
       "    .dataframe thead th {\n",
       "        text-align: right;\n",
       "    }\n",
       "</style>\n",
       "<table border=\"1\" class=\"dataframe\">\n",
       "  <thead>\n",
       "    <tr style=\"text-align: right;\">\n",
       "      <th></th>\n",
       "      <th>Patient</th>\n",
       "      <th>IAH</th>\n",
       "      <th>Weight</th>\n",
       "      <th>Age</th>\n",
       "      <th>Height</th>\n",
       "      <th>Cervical</th>\n",
       "      <th>BMI</th>\n",
       "      <th>OSA</th>\n",
       "    </tr>\n",
       "  </thead>\n",
       "  <tbody>\n",
       "    <tr>\n",
       "      <th>0</th>\n",
       "      <td>P0001</td>\n",
       "      <td>71.0</td>\n",
       "      <td>82.00000</td>\n",
       "      <td>39.0</td>\n",
       "      <td>168.000000</td>\n",
       "      <td>40.649452</td>\n",
       "      <td>29.053288</td>\n",
       "      <td>1.0</td>\n",
       "    </tr>\n",
       "    <tr>\n",
       "      <th>2</th>\n",
       "      <td>P0003</td>\n",
       "      <td>56.0</td>\n",
       "      <td>87.68323</td>\n",
       "      <td>46.0</td>\n",
       "      <td>171.314729</td>\n",
       "      <td>43.000000</td>\n",
       "      <td>29.876322</td>\n",
       "      <td>1.0</td>\n",
       "    </tr>\n",
       "    <tr>\n",
       "      <th>4</th>\n",
       "      <td>P0005</td>\n",
       "      <td>9.0</td>\n",
       "      <td>80.00000</td>\n",
       "      <td>32.0</td>\n",
       "      <td>173.000000</td>\n",
       "      <td>40.000000</td>\n",
       "      <td>26.729927</td>\n",
       "      <td>0.0</td>\n",
       "    </tr>\n",
       "    <tr>\n",
       "      <th>5</th>\n",
       "      <td>P0006</td>\n",
       "      <td>2.0</td>\n",
       "      <td>109.00000</td>\n",
       "      <td>32.0</td>\n",
       "      <td>190.000000</td>\n",
       "      <td>42.000000</td>\n",
       "      <td>30.193906</td>\n",
       "      <td>0.0</td>\n",
       "    </tr>\n",
       "    <tr>\n",
       "      <th>6</th>\n",
       "      <td>P0007</td>\n",
       "      <td>34.0</td>\n",
       "      <td>86.00000</td>\n",
       "      <td>39.0</td>\n",
       "      <td>169.000000</td>\n",
       "      <td>42.000000</td>\n",
       "      <td>30.110991</td>\n",
       "      <td>1.0</td>\n",
       "    </tr>\n",
       "  </tbody>\n",
       "</table>\n",
       "</div>"
      ],
      "text/plain": [
       "  Patient   IAH     Weight   Age      Height   Cervical        BMI  OSA\n",
       "0   P0001  71.0   82.00000  39.0  168.000000  40.649452  29.053288  1.0\n",
       "2   P0003  56.0   87.68323  46.0  171.314729  43.000000  29.876322  1.0\n",
       "4   P0005   9.0   80.00000  32.0  173.000000  40.000000  26.729927  0.0\n",
       "5   P0006   2.0  109.00000  32.0  190.000000  42.000000  30.193906  0.0\n",
       "6   P0007  34.0   86.00000  39.0  169.000000  42.000000  30.110991  1.0"
      ]
     },
     "execution_count": 167,
     "metadata": {},
     "output_type": "execute_result"
    }
   ],
   "source": [
    "male_df.head()"
   ]
  },
  {
   "cell_type": "code",
   "execution_count": 168,
   "metadata": {},
   "outputs": [
    {
     "data": {
      "text/plain": [
       "(285, 8)"
      ]
     },
     "execution_count": 168,
     "metadata": {},
     "output_type": "execute_result"
    }
   ],
   "source": [
    "male_df.shape"
   ]
  }
 ],
 "metadata": {
  "kernelspec": {
   "display_name": "Python 3",
   "language": "python",
   "name": "python3"
  },
  "language_info": {
   "codemirror_mode": {
    "name": "ipython",
    "version": 3
   },
   "file_extension": ".py",
   "mimetype": "text/x-python",
   "name": "python",
   "nbconvert_exporter": "python",
   "pygments_lexer": "ipython3",
   "version": "3.9.13"
  }
 },
 "nbformat": 4,
 "nbformat_minor": 2
}
