{
 "cells": [
  {
   "cell_type": "markdown",
   "metadata": {},
   "source": [
    "## <font color=FF4455>Regression for OSA</font>\n"
   ]
  },
  {
   "cell_type": "markdown",
   "metadata": {},
   "source": [
    "# Data Preparation"
   ]
  },
  {
   "cell_type": "markdown",
   "metadata": {},
   "source": [
    "### Dependencies"
   ]
  },
  {
   "cell_type": "code",
   "execution_count": 21,
   "metadata": {},
   "outputs": [],
   "source": [
    "from sklearn.model_selection import train_test_split\n",
    "import pandas as pd\n",
    "from sklearn.linear_model import LinearRegression\n",
    "from sklearn.metrics import mean_squared_error, mean_absolute_error\n",
    "import matplotlib.pyplot as plt\n"
   ]
  },
  {
   "cell_type": "markdown",
   "metadata": {},
   "source": [
    "We'll first start by splitting the data into train and test sets"
   ]
  },
  {
   "cell_type": "code",
   "execution_count": 17,
   "metadata": {},
   "outputs": [],
   "source": [
    "def split_data(xlsx_data):\n",
    "    \"\"\"\n",
    "    Reads xlsx file, separates features from variables, and split it into train and test\n",
    "    \"\"\"\n",
    "    df = pd.read_excel(xlsx_data)\n",
    "    # Define feature matrix (X) and target variable (y)\n",
    "    if 'Patient' in df.columns:\n",
    "        df = df.drop('Patient', axis=1)\n",
    "    X = df.drop('IAH', axis=1)  # Features\n",
    "    y = df['IAH']  # Target\n",
    "    X_train, X_test, y_train, y_test = train_test_split(X, y, test_size=0.2, random_state=42)\n",
    "    return X_train, X_test, y_train, y_test"
   ]
  },
  {
   "cell_type": "code",
   "execution_count": 6,
   "metadata": {},
   "outputs": [],
   "source": [
    "def split_data_val(xlsx_data):\n",
    "    \"\"\"\n",
    "    Reads xlsx file, separates features from variables, and split it into train, val and test\n",
    "    \"\"\"\n",
    "    df = pd.read_excel(xlsx_data)\n",
    "    # Define feature matrix (X) and target variable (y)\n",
    "    X = df.drop('IAH', axis=1)  # Features\n",
    "    y = df['IAH']  # Target\n",
    "    # Step 1: Split into training+validation (80%) and test (20%)\n",
    "    X_train_val, X_test, y_train_val, y_test = train_test_split(X, y, test_size=0.2, random_state=42)\n",
    "    # Step 2: Split training+validation into training (80% of the original 80%) and validation (20% of the original 80%)\n",
    "    X_train, X_val, y_train, y_val = train_test_split(X_train_val, y_train_val, test_size=0.25, random_state=42)\n",
    "    return X_train, X_val, X_test, y_train, y_val, y_test"
   ]
  },
  {
   "cell_type": "code",
   "execution_count": 18,
   "metadata": {},
   "outputs": [],
   "source": [
    "X_train, X_test, y_train, y_test = split_data(\"Clinical_data.xlsx\")\n",
    "X_train_norm, X_test_norm, y_train_norm, y_test_norm = split_data(\"Clinical_data_norm.xlsx\")\n",
    "X_train_selec, X_test_selec, y_train_selec, y_test_selec = split_data(\"Clinical_selected_features.xlsx\")"
   ]
  },
  {
   "cell_type": "code",
   "execution_count": 9,
   "metadata": {},
   "outputs": [
    {
     "name": "stdout",
     "output_type": "stream",
     "text": [
      "Training set size: 519\n",
      "Test set size: 130\n"
     ]
    }
   ],
   "source": [
    "print(f\"Training set size: {len(X_train)}\")\n",
    "# print(f\"Validation set size: {len(X_val)}\")\n",
    "print(f\"Test set size: {len(X_test)}\")"
   ]
  },
  {
   "cell_type": "markdown",
   "metadata": {},
   "source": [
    "# Models"
   ]
  },
  {
   "cell_type": "markdown",
   "metadata": {},
   "source": [
    "We will try to fit a model for the 3 datasets we have: The original, the normalized, and the one with only selected features according to Pearson correlation."
   ]
  },
  {
   "cell_type": "markdown",
   "metadata": {},
   "source": [
    "### Useful functions"
   ]
  },
  {
   "cell_type": "code",
   "execution_count": 10,
   "metadata": {},
   "outputs": [],
   "source": [
    "def fit_and_evaluate_model(model, X_train, y_train, X_test, y_test):\n",
    "    \"\"\"\n",
    "    Fits a regression model and returns predictions and train/test losses.\n",
    "    \"\"\"\n",
    "    # Fit the model\n",
    "    model.fit(X_train, y_train)\n",
    "    \n",
    "    # Make predictions\n",
    "    y_train_pred = model.predict(X_train)\n",
    "    y_test_pred = model.predict(X_test)\n",
    "    \n",
    "    # Calculate MSE loss\n",
    "    test_loss_mse = mean_squared_error(y_test, y_test_pred)\n",
    "\n",
    "    # Calculate MAE loss\n",
    "    test_loss_mae = mean_absolute_error(y_test, y_test_pred)\n",
    "\n",
    "    return y_train_pred, y_test_pred, test_loss_mse, test_loss_mae"
   ]
  },
  {
   "cell_type": "markdown",
   "metadata": {},
   "source": [
    "### Multiple Linear Regression"
   ]
  },
  {
   "cell_type": "code",
   "execution_count": 19,
   "metadata": {},
   "outputs": [
    {
     "name": "stdout",
     "output_type": "stream",
     "text": [
      "Original dataset - Train Loss: 259.97991728514575, Test Loss: 303.38853474944176\n",
      "Normalized dataset - Train Loss: 259.97991728514575, Test Loss: 303.3885347494418\n",
      "Selected features dataset - Train Loss: 270.8814072980731, Test Loss: 306.43910031789835\n"
     ]
    }
   ],
   "source": [
    "# Initialize the model\n",
    "model = LinearRegression()\n",
    "\n",
    "# Fit and evaluate the model on the original dataset\n",
    "y_train_pred, y_test_pred, train_loss, test_loss = fit_and_evaluate_model(model, X_train, y_train, X_test, y_test)\n",
    "print(f\"Original dataset - Train Loss: {train_loss}, Test Loss: {test_loss}\")\n",
    "\n",
    "# Fit and evaluate the model on the normalized dataset\n",
    "y_train_pred_norm, y_test_pred_norm, train_loss_norm, test_loss_norm = fit_and_evaluate_model(model, X_train_norm, y_train_norm, X_test_norm, y_test_norm)\n",
    "print(f\"Normalized dataset - Train Loss: {train_loss_norm}, Test Loss: {test_loss_norm}\")\n",
    "\n",
    "# Fit and evaluate the model on the selected features dataset\n",
    "y_train_pred_selec, y_test_pred_selec, train_loss_selec, test_loss_selec = fit_and_evaluate_model(model, X_train_selec, y_train_selec, X_test_selec, y_test_selec)\n",
    "print(f\"Selected features dataset - Train Loss: {train_loss_selec}, Test Loss: {test_loss_selec}\")"
   ]
  },
  {
   "cell_type": "markdown",
   "metadata": {},
   "source": [
    "Let's store the losse inside a dictionary so that we can use them later"
   ]
  },
  {
   "cell_type": "code",
   "execution_count": 20,
   "metadata": {
    "vscode": {
     "languageId": "javascript"
    }
   },
   "outputs": [],
   "source": [
    "MLRegression_losses = {\n",
    "    \"original\": {\n",
    "        \"MSE\": train_loss,\n",
    "        \"MAE\": test_loss\n",
    "    },\n",
    "    \"normalized\": {\n",
    "        \"MSE\": train_loss_norm,\n",
    "        \"MAE\": test_loss_norm\n",
    "    },\n",
    "    \"selected_features\": {\n",
    "        \"MSE\": train_loss_selec,\n",
    "        \"MAE\": test_loss_selec\n",
    "    }\n",
    "}"
   ]
  }
 ],
 "metadata": {
  "kernelspec": {
   "display_name": "Python 3",
   "language": "python",
   "name": "python3"
  },
  "language_info": {
   "codemirror_mode": {
    "name": "ipython",
    "version": 3
   },
   "file_extension": ".py",
   "mimetype": "text/x-python",
   "name": "python",
   "nbconvert_exporter": "python",
   "pygments_lexer": "ipython3",
   "version": "3.9.13"
  }
 },
 "nbformat": 4,
 "nbformat_minor": 2
}
